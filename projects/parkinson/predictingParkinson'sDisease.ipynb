{
 "cells":[
  {
   "cell_type":"code",
   "source":[
    "import pandas                  as pd\n",
    "from   sklearn.preprocessing   import StandardScaler\n",
    "from   sklearn.model_selection import train_test_split\n",
    "from   sklearn.svm             import SVC\n",
    "from   sklearn.metrics         import accuracy_score"
   ],
   "execution_count":1,
   "outputs":[],
   "metadata":{
    "datalore":{
     "node_id":"DFgPkutbw6RFpuTnO18xND",
     "type":"CODE",
     "hide_input_from_viewers":true,
     "hide_output_from_viewers":true
    }
   }
  },
  {
   "cell_type":"code",
   "source":[
    "df = pd.read_csv(\"parkinson_disease.csv\")\n",
    "df.shape"
   ],
   "execution_count":2,
   "outputs":[
    {
     "data":{
      "text\/plain":[
       "(195, 24)"
      ]
     },
     "metadata":{},
     "output_type":"display_data"
    }
   ],
   "metadata":{
    "datalore":{
     "node_id":"7QAjUJndnNiZqswYkvrHft",
     "type":"CODE",
     "hide_input_from_viewers":true,
     "hide_output_from_viewers":true
    }
   }
  },
  {
   "cell_type":"code",
   "source":[
    "# Voir toutes les colonnes\n",
    "pd.set_option('display.max_columns', 25)"
   ],
   "execution_count":3,
   "outputs":[],
   "metadata":{
    "datalore":{
     "node_id":"1LIrHn31urVJFcA7POBvn1",
     "type":"CODE",
     "hide_input_from_viewers":true,
     "hide_output_from_viewers":true
    }
   }
  },
  {
   "cell_type":"code",
   "source":[
    "df.info()"
   ],
   "execution_count":4,
   "outputs":[
    {
     "name":"stdout",
     "text":[
      "<class 'pandas.core.frame.DataFrame'>\n",
      "RangeIndex: 195 entries, 0 to 194\n",
      "Data columns (total 24 columns):\n",
      " #   Column            Non-Null Count  Dtype  \n",
      "---  ------            --------------  -----  \n",
      " 0   name              195 non-null    object \n",
      " 1   MDVP:Fo(Hz)       195 non-null    float64\n",
      " 2   MDVP:Fhi(Hz)      195 non-null    float64\n",
      " 3   MDVP:Flo(Hz)      195 non-null    float64\n",
      " 4   MDVP:Jitter(%)    195 non-null    float64\n",
      " 5   MDVP:Jitter(Abs)  195 non-null    float64\n",
      " 6   MDVP:RAP          195 non-null    float64\n",
      " 7   MDVP:PPQ          195 non-null    float64\n",
      " 8   Jitter:DDP        195 non-null    float64\n",
      " 9   MDVP:Shimmer      195 non-null    float64\n",
      " 10  MDVP:Shimmer(dB)  195 non-null    float64\n",
      " 11  Shimmer:APQ3      195 non-null    float64\n",
      " 12  Shimmer:APQ5      195 non-null    float64\n",
      " 13  MDVP:APQ          195 non-null    float64\n",
      " 14  Shimmer:DDA       195 non-null    float64\n",
      " 15  NHR               195 non-null    float64\n",
      " 16  HNR               195 non-null    float64\n",
      " 17  status            195 non-null    int64  \n",
      " 18  RPDE              195 non-null    float64\n",
      " 19  DFA               195 non-null    float64\n",
      " 20  spread1           195 non-null    float64\n",
      " 21  spread2           195 non-null    float64\n",
      " 22  D2                195 non-null    float64\n",
      " 23  PPE               195 non-null    float64\n",
      "dtypes: float64(22), int64(1), object(1)\n",
      "memory usage: 36.7+ KB\n"
     ],
     "output_type":"stream"
    }
   ],
   "metadata":{
    "datalore":{
     "node_id":"d4v6gykOAD1tLnQ2DtGNvj",
     "type":"CODE",
     "hide_input_from_viewers":true,
     "hide_output_from_viewers":true
    }
   }
  },
  {
   "cell_type":"code",
   "source":[
    "df.isnull().sum()"
   ],
   "execution_count":5,
   "outputs":[
    {
     "data":{
      "text\/html":[
       "<pre>name                0\n",
       "MDVP:Fo(Hz)         0\n",
       "MDVP:Fhi(Hz)        0\n",
       "MDVP:Flo(Hz)        0\n",
       "MDVP:Jitter(%)      0\n",
       "MDVP:Jitter(Abs)    0\n",
       "MDVP:RAP            0\n",
       "MDVP:PPQ            0\n",
       "Jitter:DDP          0\n",
       "MDVP:Shimmer        0\n",
       "MDVP:Shimmer(dB)    0\n",
       "Shimmer:APQ3        0\n",
       "Shimmer:APQ5        0\n",
       "MDVP:APQ            0\n",
       "Shimmer:DDA         0\n",
       "NHR                 0\n",
       "HNR                 0\n",
       "status              0\n",
       "RPDE                0\n",
       "DFA                 0\n",
       "spread1             0\n",
       "spread2             0\n",
       "D2                  0\n",
       "PPE                 0\n",
       "dtype: int64<\/pre>"
      ]
     },
     "metadata":{},
     "output_type":"display_data"
    }
   ],
   "metadata":{
    "datalore":{
     "node_id":"bxBvlFAxIfbCML2WBeHoDZ",
     "type":"CODE",
     "hide_input_from_viewers":true,
     "hide_output_from_viewers":true
    }
   }
  },
  {
   "cell_type":"markdown",
   "source":[
    "Il n'y a pas de valeur manquante.  \n",
    "Que des nombres sauf name.  \n",
    "Name n'a pas d'intérêt pour ce projet.  \n",
    "Pas de valeur catégorielle."
   ],
   "outputs":[
    {
     "data":{
      "application\/datalore_markdown_expressions+json":{
       "expressions":{}
      }
     },
     "metadata":{},
     "output_type":"display_data"
    }
   ],
   "attachments":{},
   "metadata":{
    "datalore":{
     "node_id":"SKaMDDYhBIPwG3iHZkvb5O",
     "type":"MD",
     "hide_input_from_viewers":true,
     "hide_output_from_viewers":true
    }
   }
  },
  {
   "cell_type":"code",
   "source":[
    "df.drop(columns='name', inplace=True)"
   ],
   "execution_count":7,
   "outputs":[],
   "metadata":{
    "datalore":{
     "node_id":"wgI6ycMWtRxouxo73bnjVk",
     "type":"CODE",
     "hide_input_from_viewers":true,
     "hide_output_from_viewers":true
    }
   }
  },
  {
   "cell_type":"code",
   "source":[
    "# Diviser en feature et label\n",
    "y = df['status']\n",
    "X = df.drop(columns='status')"
   ],
   "execution_count":8,
   "outputs":[],
   "metadata":{
    "datalore":{
     "node_id":"UoVax2ZotASxiuqnY0i7Rx",
     "type":"CODE",
     "hide_input_from_viewers":true,
     "hide_output_from_viewers":true
    }
   }
  },
  {
   "cell_type":"code",
   "source":[
    "# Quelles sont les valeur des colonnes de fetures\n",
    "X['NHR'].min(), X['NHR'].max()\n",
    "X['MDVP:Flo(Hz)'].min(), X['MDVP:Flo(Hz)'].max()"
   ],
   "execution_count":9,
   "outputs":[
    {
     "data":{
      "text\/plain":[
       "(65.476, 239.17)"
      ]
     },
     "metadata":{},
     "output_type":"display_data"
    }
   ],
   "metadata":{
    "datalore":{
     "node_id":"HKkYnSfJvUPjSBm0nLPebo",
     "type":"CODE",
     "hide_input_from_viewers":true,
     "hide_output_from_viewers":true
    }
   }
  },
  {
   "cell_type":"markdown",
   "source":[
    "Aucune variables de features n'est normalisées.  \n",
    "Il est impossible d'alimenter un algo de ML.\n",
    "\n",
    "Normaliser avec une échelle strandard est une option."
   ],
   "outputs":[
    {
     "data":{
      "application\/datalore_markdown_expressions+json":{
       "expressions":{}
      }
     },
     "metadata":{},
     "output_type":"display_data"
    }
   ],
   "attachments":{},
   "metadata":{
    "datalore":{
     "node_id":"kRrtyVo4pZrdyxElBPQO37",
     "type":"MD",
     "hide_input_from_viewers":true,
     "hide_output_from_viewers":true
    }
   }
  },
  {
   "cell_type":"code",
   "source":[
    "scaler = StandardScaler()\n",
    "X = scaler.fit_transform(X)\n",
    "X"
   ],
   "execution_count":11,
   "outputs":[
    {
     "data":{
      "text\/html":[
       "<pre>array([[-0.82929965, -0.43616456, -0.95203729, ...,  0.48047686,\n",
       "        -0.21053082,  0.86888575],\n",
       "       [-0.77097169, -0.53097409, -0.05772056, ...,  1.31118546,\n",
       "         0.27507712,  1.80360503],\n",
       "       [-0.90947638, -0.7231683 , -0.10987483, ...,  1.01768236,\n",
       "        -0.10362861,  1.40266141],\n",
       "       ...,\n",
       "       [ 0.49557839,  0.47010361, -0.96839309, ..., -0.81807931,\n",
       "         0.78033848, -0.83241014],\n",
       "       [ 1.07876114,  2.19004398, -0.95417967, ..., -0.22906571,\n",
       "        -0.63700298, -0.92610456],\n",
       "       [ 1.45481664,  0.69224632, -0.88348115, ..., -0.43085284,\n",
       "         0.45480231, -0.64505466]])<\/pre>"
      ]
     },
     "metadata":{},
     "output_type":"display_data"
    }
   ],
   "metadata":{
    "datalore":{
     "node_id":"RUz91pJeuE5pOz2ix3ZMb6",
     "type":"CODE",
     "hide_input_from_viewers":true,
     "hide_output_from_viewers":true
    }
   }
  },
  {
   "cell_type":"markdown",
   "source":[
    "Après la normalisation de df devient un tableau NumPy.  \n",
    "Le type array NumPy n'est pas un souci pour alimenter le modèle de ML.\n",
    "\n",
    "Je vais tout de même le convertir en dataframe."
   ],
   "outputs":[
    {
     "data":{
      "application\/datalore_markdown_expressions+json":{
       "expressions":{}
      }
     },
     "metadata":{},
     "output_type":"display_data"
    }
   ],
   "attachments":{},
   "metadata":{
    "datalore":{
     "node_id":"jibyo1uNgSg6FoFKn60EbJ",
     "type":"MD",
     "hide_input_from_viewers":true,
     "hide_output_from_viewers":true
    }
   }
  },
  {
   "cell_type":"code",
   "source":[
    "X_columns = df.drop(columns='status').columns\n",
    "pd.DataFrame(X, columns=X_columns)"
   ],
   "execution_count":13,
   "outputs":[
    {
     "data":{
      "text\/html":[
       "<div>\n",
       "<style scoped>\n",
       "    .dataframe tbody tr th:only-of-type {\n",
       "        vertical-align: middle;\n",
       "    }\n",
       "\n",
       "    .dataframe tbody tr th {\n",
       "        vertical-align: top;\n",
       "    }\n",
       "\n",
       "    .dataframe thead th {\n",
       "        text-align: right;\n",
       "    }\n",
       "<\/style>\n",
       "<table border=\"1\" class=\"dataframe\">\n",
       "  <thead>\n",
       "    <tr style=\"text-align: right;\">\n",
       "      <th><\/th>\n",
       "      <th>MDVP:Fo(Hz)<\/th>\n",
       "      <th>MDVP:Fhi(Hz)<\/th>\n",
       "      <th>MDVP:Flo(Hz)<\/th>\n",
       "      <th>MDVP:Jitter(%)<\/th>\n",
       "      <th>MDVP:Jitter(Abs)<\/th>\n",
       "      <th>MDVP:RAP<\/th>\n",
       "      <th>MDVP:PPQ<\/th>\n",
       "      <th>Jitter:DDP<\/th>\n",
       "      <th>MDVP:Shimmer<\/th>\n",
       "      <th>MDVP:Shimmer(dB)<\/th>\n",
       "      <th>Shimmer:APQ3<\/th>\n",
       "      <th>Shimmer:APQ5<\/th>\n",
       "      <th>MDVP:APQ<\/th>\n",
       "      <th>Shimmer:DDA<\/th>\n",
       "      <th>NHR<\/th>\n",
       "      <th>HNR<\/th>\n",
       "      <th>RPDE<\/th>\n",
       "      <th>DFA<\/th>\n",
       "      <th>spread1<\/th>\n",
       "      <th>spread2<\/th>\n",
       "      <th>D2<\/th>\n",
       "      <th>PPE<\/th>\n",
       "    <\/tr>\n",
       "  <\/thead>\n",
       "  <tbody>\n",
       "    <tr>\n",
       "      <th>0<\/th>\n",
       "      <td>-0.829300<\/td>\n",
       "      <td>-0.436165<\/td>\n",
       "      <td>-0.952037<\/td>\n",
       "      <td>0.334914<\/td>\n",
       "      <td>0.749759<\/td>\n",
       "      <td>0.132963<\/td>\n",
       "      <td>0.760800<\/td>\n",
       "      <td>0.131755<\/td>\n",
       "      <td>0.745985<\/td>\n",
       "      <td>0.739536<\/td>\n",
       "      <td>0.607859<\/td>\n",
       "      <td>1.119147<\/td>\n",
       "      <td>0.332985<\/td>\n",
       "      <td>0.607532<\/td>\n",
       "      <td>-0.067893<\/td>\n",
       "      <td>-0.193225<\/td>\n",
       "      <td>-0.807838<\/td>\n",
       "      <td>1.760814<\/td>\n",
       "      <td>0.801323<\/td>\n",
       "      <td>0.480477<\/td>\n",
       "      <td>-0.210531<\/td>\n",
       "      <td>0.868886<\/td>\n",
       "    <\/tr>\n",
       "    <tr>\n",
       "      <th>1<\/th>\n",
       "      <td>-0.770972<\/td>\n",
       "      <td>-0.530974<\/td>\n",
       "      <td>-0.057721<\/td>\n",
       "      <td>0.715418<\/td>\n",
       "      <td>1.037674<\/td>\n",
       "      <td>0.453892<\/td>\n",
       "      <td>1.276809<\/td>\n",
       "      <td>0.452684<\/td>\n",
       "      <td>1.681731<\/td>\n",
       "      <td>1.768464<\/td>\n",
       "      <td>1.547912<\/td>\n",
       "      <td>2.276504<\/td>\n",
       "      <td>1.159454<\/td>\n",
       "      <td>1.548254<\/td>\n",
       "      <td>-0.137843<\/td>\n",
       "      <td>-0.634508<\/td>\n",
       "      <td>-0.387524<\/td>\n",
       "      <td>1.837562<\/td>\n",
       "      <td>1.479853<\/td>\n",
       "      <td>1.311185<\/td>\n",
       "      <td>0.275077<\/td>\n",
       "      <td>1.803605<\/td>\n",
       "    <\/tr>\n",
       "    <tr>\n",
       "      <th>2<\/th>\n",
       "      <td>-0.909476<\/td>\n",
       "      <td>-0.723168<\/td>\n",
       "      <td>-0.109875<\/td>\n",
       "      <td>0.884991<\/td>\n",
       "      <td>1.325589<\/td>\n",
       "      <td>0.720770<\/td>\n",
       "      <td>1.585687<\/td>\n",
       "      <td>0.721813<\/td>\n",
       "      <td>1.202693<\/td>\n",
       "      <td>1.027636<\/td>\n",
       "      <td>1.175643<\/td>\n",
       "      <td>1.726176<\/td>\n",
       "      <td>0.699187<\/td>\n",
       "      <td>1.175323<\/td>\n",
       "      <td>-0.291633<\/td>\n",
       "      <td>-0.279760<\/td>\n",
       "      <td>-0.662075<\/td>\n",
       "      <td>1.942048<\/td>\n",
       "      <td>1.141445<\/td>\n",
       "      <td>1.017682<\/td>\n",
       "      <td>-0.103629<\/td>\n",
       "      <td>1.402661<\/td>\n",
       "    <\/tr>\n",
       "    <tr>\n",
       "      <th>3<\/th>\n",
       "      <td>-0.909622<\/td>\n",
       "      <td>-0.649092<\/td>\n",
       "      <td>-0.114229<\/td>\n",
       "      <td>0.775389<\/td>\n",
       "      <td>1.325589<\/td>\n",
       "      <td>0.578885<\/td>\n",
       "      <td>1.284076<\/td>\n",
       "      <td>0.577677<\/td>\n",
       "      <td>1.340396<\/td>\n",
       "      <td>1.207698<\/td>\n",
       "      <td>1.340547<\/td>\n",
       "      <td>1.848749<\/td>\n",
       "      <td>0.806859<\/td>\n",
       "      <td>1.340229<\/td>\n",
       "      <td>-0.280719<\/td>\n",
       "      <td>-0.281346<\/td>\n",
       "      <td>-0.613134<\/td>\n",
       "      <td>1.832380<\/td>\n",
       "      <td>1.440945<\/td>\n",
       "      <td>1.293840<\/td>\n",
       "      <td>0.062145<\/td>\n",
       "      <td>1.806954<\/td>\n",
       "    <\/tr>\n",
       "    <tr>\n",
       "      <th>4<\/th>\n",
       "      <td>-0.925657<\/td>\n",
       "      <td>-0.606245<\/td>\n",
       "      <td>-0.130608<\/td>\n",
       "      <td>1.368893<\/td>\n",
       "      <td>1.901418<\/td>\n",
       "      <td>1.095750<\/td>\n",
       "      <td>2.047187<\/td>\n",
       "      <td>1.096793<\/td>\n",
       "      <td>1.836448<\/td>\n",
       "      <td>1.552389<\/td>\n",
       "      <td>1.899444<\/td>\n",
       "      <td>2.532491<\/td>\n",
       "      <td>1.216839<\/td>\n",
       "      <td>1.899461<\/td>\n",
       "      <td>-0.178026<\/td>\n",
       "      <td>-0.506745<\/td>\n",
       "      <td>-0.783021<\/td>\n",
       "      <td>1.909364<\/td>\n",
       "      <td>1.780940<\/td>\n",
       "      <td>0.096195<\/td>\n",
       "      <td>-0.130026<\/td>\n",
       "      <td>2.267082<\/td>\n",
       "    <\/tr>\n",
       "    <tr>\n",
       "      <th>...<\/th>\n",
       "      <td>...<\/td>\n",
       "      <td>...<\/td>\n",
       "      <td>...<\/td>\n",
       "      <td>...<\/td>\n",
       "      <td>...<\/td>\n",
       "      <td>...<\/td>\n",
       "      <td>...<\/td>\n",
       "      <td>...<\/td>\n",
       "      <td>...<\/td>\n",
       "      <td>...<\/td>\n",
       "      <td>...<\/td>\n",
       "      <td>...<\/td>\n",
       "      <td>...<\/td>\n",
       "      <td>...<\/td>\n",
       "      <td>...<\/td>\n",
       "      <td>...<\/td>\n",
       "      <td>...<\/td>\n",
       "      <td>...<\/td>\n",
       "      <td>...<\/td>\n",
       "      <td>...<\/td>\n",
       "      <td>...<\/td>\n",
       "      <td>...<\/td>\n",
       "    <\/tr>\n",
       "    <tr>\n",
       "      <th>190<\/th>\n",
       "      <td>0.483467<\/td>\n",
       "      <td>0.371185<\/td>\n",
       "      <td>-0.508265<\/td>\n",
       "      <td>-0.337173<\/td>\n",
       "      <td>-0.401899<\/td>\n",
       "      <td>-0.228505<\/td>\n",
       "      <td>-0.311189<\/td>\n",
       "      <td>-0.227459<\/td>\n",
       "      <td>0.593395<\/td>\n",
       "      <td>0.631498<\/td>\n",
       "      <td>0.759926<\/td>\n",
       "      <td>0.592165<\/td>\n",
       "      <td>0.199282<\/td>\n",
       "      <td>0.759930<\/td>\n",
       "      <td>0.069278<\/td>\n",
       "      <td>-0.536647<\/td>\n",
       "      <td>-0.483208<\/td>\n",
       "      <td>-1.090704<\/td>\n",
       "      <td>-0.785527<\/td>\n",
       "      <td>-1.256837<\/td>\n",
       "      <td>0.721944<\/td>\n",
       "      <td>-0.817703<\/td>\n",
       "    <\/tr>\n",
       "    <tr>\n",
       "      <th>191<\/th>\n",
       "      <td>1.339202<\/td>\n",
       "      <td>0.612690<\/td>\n",
       "      <td>-0.618218<\/td>\n",
       "      <td>-0.120037<\/td>\n",
       "      <td>-0.401899<\/td>\n",
       "      <td>0.001213<\/td>\n",
       "      <td>-0.191272<\/td>\n",
       "      <td>0.002258<\/td>\n",
       "      <td>-0.116922<\/td>\n",
       "      <td>-0.099041<\/td>\n",
       "      <td>0.037113<\/td>\n",
       "      <td>-0.109086<\/td>\n",
       "      <td>-0.313046<\/td>\n",
       "      <td>0.037108<\/td>\n",
       "      <td>-0.167360<\/td>\n",
       "      <td>-0.620463<\/td>\n",
       "      <td>-0.644916<\/td>\n",
       "      <td>-0.631503<\/td>\n",
       "      <td>-0.469859<\/td>\n",
       "      <td>-1.168475<\/td>\n",
       "      <td>1.054135<\/td>\n",
       "      <td>-0.418929<\/td>\n",
       "    <\/tr>\n",
       "    <tr>\n",
       "      <th>192<\/th>\n",
       "      <td>0.495578<\/td>\n",
       "      <td>0.470104<\/td>\n",
       "      <td>-0.968393<\/td>\n",
       "      <td>1.526058<\/td>\n",
       "      <td>1.037674<\/td>\n",
       "      <td>0.991026<\/td>\n",
       "      <td>0.797139<\/td>\n",
       "      <td>0.992069<\/td>\n",
       "      <td>-0.352453<\/td>\n",
       "      <td>-0.135053<\/td>\n",
       "      <td>-0.294670<\/td>\n",
       "      <td>-0.352565<\/td>\n",
       "      <td>-0.438466<\/td>\n",
       "      <td>-0.294679<\/td>\n",
       "      <td>2.041513<\/td>\n",
       "      <td>-0.906799<\/td>\n",
       "      <td>-0.877441<\/td>\n",
       "      <td>-1.130853<\/td>\n",
       "      <td>-1.014154<\/td>\n",
       "      <td>-0.818079<\/td>\n",
       "      <td>0.780338<\/td>\n",
       "      <td>-0.832410<\/td>\n",
       "    <\/tr>\n",
       "    <tr>\n",
       "      <th>193<\/th>\n",
       "      <td>1.078761<\/td>\n",
       "      <td>2.190044<\/td>\n",
       "      <td>-0.954180<\/td>\n",
       "      <td>0.243924<\/td>\n",
       "      <td>-0.113985<\/td>\n",
       "      <td>0.132963<\/td>\n",
       "      <td>0.164847<\/td>\n",
       "      <td>0.131755<\/td>\n",
       "      <td>-0.358834<\/td>\n",
       "      <td>-0.212223<\/td>\n",
       "      <td>-0.297633<\/td>\n",
       "      <td>-0.389254<\/td>\n",
       "      <td>-0.485202<\/td>\n",
       "      <td>-0.297970<\/td>\n",
       "      <td>1.175327<\/td>\n",
       "      <td>-0.649233<\/td>\n",
       "      <td>-0.456374<\/td>\n",
       "      <td>-1.343323<\/td>\n",
       "      <td>-0.974960<\/td>\n",
       "      <td>-0.229066<\/td>\n",
       "      <td>-0.637003<\/td>\n",
       "      <td>-0.926105<\/td>\n",
       "    <\/tr>\n",
       "    <tr>\n",
       "      <th>194<\/th>\n",
       "      <td>1.454817<\/td>\n",
       "      <td>0.692246<\/td>\n",
       "      <td>-0.883481<\/td>\n",
       "      <td>-0.113833<\/td>\n",
       "      <td>-0.401899<\/td>\n",
       "      <td>-0.120403<\/td>\n",
       "      <td>-0.100425<\/td>\n",
       "      <td>-0.120483<\/td>\n",
       "      <td>-0.577883<\/td>\n",
       "      <td>-0.474600<\/td>\n",
       "      <td>-0.533633<\/td>\n",
       "      <td>-0.522667<\/td>\n",
       "      <td>-0.612397<\/td>\n",
       "      <td>-0.533645<\/td>\n",
       "      <td>0.474590<\/td>\n",
       "      <td>-0.153356<\/td>\n",
       "      <td>-0.344660<\/td>\n",
       "      <td>-0.973698<\/td>\n",
       "      <td>-0.036471<\/td>\n",
       "      <td>-0.430853<\/td>\n",
       "      <td>0.454802<\/td>\n",
       "      <td>-0.645055<\/td>\n",
       "    <\/tr>\n",
       "  <\/tbody>\n",
       "<\/table>\n",
       "<p>195 rows × 22 columns<\/p>\n",
       "<\/div>"
      ]
     },
     "metadata":{},
     "output_type":"display_data"
    }
   ],
   "metadata":{
    "datalore":{
     "node_id":"8dTVxhLyb2l9PX9key82pP",
     "type":"CODE",
     "hide_input_from_viewers":true,
     "hide_output_from_viewers":true
    }
   }
  },
  {
   "cell_type":"code",
   "source":[
    "# diviser les features et label en ensembles d’entraînement et en ensembles de test\n",
    "x_train, x_test, y_train, y_test = train_test_split(X, y, test_size=0.2, stratify=y, random_state=34)\n",
    "x_train.shape, x_test.shape"
   ],
   "execution_count":14,
   "outputs":[
    {
     "data":{
      "text\/plain":[
       "((156, 22), (39, 22))"
      ]
     },
     "metadata":{},
     "output_type":"display_data"
    }
   ],
   "metadata":{
    "datalore":{
     "node_id":"7SLmf9lRdEIZ7RircGHTbG",
     "type":"CODE",
     "hide_input_from_viewers":true,
     "hide_output_from_viewers":true
    }
   }
  },
  {
   "cell_type":"code",
   "source":[
    "y_train.shape, y_test.shape"
   ],
   "execution_count":15,
   "outputs":[
    {
     "data":{
      "text\/plain":[
       "((156,), (39,))"
      ]
     },
     "metadata":{},
     "output_type":"display_data"
    }
   ],
   "metadata":{
    "datalore":{
     "node_id":"piuj9DltinK4Gb94Q7Nvoq",
     "type":"CODE",
     "hide_input_from_viewers":true,
     "hide_output_from_viewers":true
    }
   }
  },
  {
   "cell_type":"code",
   "source":[
    "# \n",
    "svc = SVC()\n",
    "svc.fit(x_train, y_train)\n",
    "svc_prediction = svc.predict(x_test)\n",
    "\n",
    "svc_score = accuracy_score(y_test, svc_prediction)\n",
    "svc_score"
   ],
   "execution_count":16,
   "outputs":[
    {
     "data":{
      "text\/plain":[
       "0.8974358974358975"
      ]
     },
     "metadata":{},
     "output_type":"display_data"
    }
   ],
   "metadata":{
    "datalore":{
     "node_id":"sDcrBMP351ur68b9xtMKwb",
     "type":"CODE",
     "hide_input_from_viewers":true,
     "hide_output_from_viewers":true
    }
   }
  }
 ],
 "metadata":{
  "kernelspec":{
   "display_name":"Python",
   "language":"python",
   "name":"python"
  },
  "datalore":{
   "computation_mode":"REACTIVE",
   "package_manager":"pip",
   "base_environment":"default_3_11",
   "packages":[],
   "report_row_ids":[],
   "report_tabs":[],
   "version":4
  }
 },
 "nbformat":4,
 "nbformat_minor":4
}