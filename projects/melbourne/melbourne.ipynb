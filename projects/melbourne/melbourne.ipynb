{
 "cells": [
  {
   "cell_type": "code",
   "execution_count": 1,
   "metadata": {
    "id": "NMEVaz8gDZVz"
   },
   "outputs": [],
   "source": [
    "                             import pandas as pd\n",
    "                             import numpy  as np\n",
    "from sklearn.preprocessing   import LabelEncoder\n",
    "from sklearn.model_selection import train_test_split\n",
    "from sklearn.tree            import DecisionTreeRegressor\n",
    "from sklearn.metrics         import mean_absolute_error\n",
    "from sklearn.ensemble        import RandomForestRegressor"
   ]
  },
  {
   "cell_type": "code",
   "execution_count": 2,
   "metadata": {},
   "outputs": [],
   "source": [
    "df = pd.read_csv('melbourne_data.csv')"
   ]
  },
  {
   "cell_type": "code",
   "execution_count": 3,
   "metadata": {},
   "outputs": [],
   "source": [
    "pd.set_option('display.max_columns', 100)"
   ]
  },
  {
   "cell_type": "code",
   "execution_count": 4,
   "metadata": {},
   "outputs": [
    {
     "data": {
      "text/plain": [
       "(13580, 21)"
      ]
     },
     "execution_count": 4,
     "metadata": {},
     "output_type": "execute_result"
    }
   ],
   "source": [
    "df.shape"
   ]
  },
  {
   "cell_type": "code",
   "execution_count": 5,
   "metadata": {
    "id": "D84t4uexEFb9"
   },
   "outputs": [
    {
     "data": {
      "text/plain": [
       "Suburb              0\n",
       "Address             0\n",
       "Rooms               0\n",
       "Type                0\n",
       "Price               0\n",
       "Method              0\n",
       "SellerG             0\n",
       "Date                0\n",
       "Distance            0\n",
       "Postcode            0\n",
       "Bedroom2            0\n",
       "Bathroom            0\n",
       "Car                62\n",
       "Landsize            0\n",
       "BuildingArea     6450\n",
       "YearBuilt        5375\n",
       "CouncilArea      1369\n",
       "Lattitude           0\n",
       "Longtitude          0\n",
       "Regionname          0\n",
       "Propertycount       0\n",
       "dtype: int64"
      ]
     },
     "execution_count": 5,
     "metadata": {},
     "output_type": "execute_result"
    }
   ],
   "source": [
    "df.isnull().sum()"
   ]
  },
  {
   "cell_type": "markdown",
   "metadata": {
    "id": "4bqN0ZaDEkgB"
   },
   "source": [
    "`info()` pour en savoir plus, notament le nombre de colonnes catégorielles."
   ]
  },
  {
   "cell_type": "code",
   "execution_count": 6,
   "metadata": {
    "id": "ABRpOLDZEuwK"
   },
   "outputs": [
    {
     "name": "stdout",
     "output_type": "stream",
     "text": [
      "<class 'pandas.core.frame.DataFrame'>\n",
      "RangeIndex: 13580 entries, 0 to 13579\n",
      "Data columns (total 21 columns):\n",
      " #   Column         Non-Null Count  Dtype  \n",
      "---  ------         --------------  -----  \n",
      " 0   Suburb         13580 non-null  object \n",
      " 1   Address        13580 non-null  object \n",
      " 2   Rooms          13580 non-null  int64  \n",
      " 3   Type           13580 non-null  object \n",
      " 4   Price          13580 non-null  float64\n",
      " 5   Method         13580 non-null  object \n",
      " 6   SellerG        13580 non-null  object \n",
      " 7   Date           13580 non-null  object \n",
      " 8   Distance       13580 non-null  float64\n",
      " 9   Postcode       13580 non-null  float64\n",
      " 10  Bedroom2       13580 non-null  float64\n",
      " 11  Bathroom       13580 non-null  float64\n",
      " 12  Car            13518 non-null  float64\n",
      " 13  Landsize       13580 non-null  float64\n",
      " 14  BuildingArea   7130 non-null   float64\n",
      " 15  YearBuilt      8205 non-null   float64\n",
      " 16  CouncilArea    12211 non-null  object \n",
      " 17  Lattitude      13580 non-null  float64\n",
      " 18  Longtitude     13580 non-null  float64\n",
      " 19  Regionname     13580 non-null  object \n",
      " 20  Propertycount  13580 non-null  float64\n",
      "dtypes: float64(12), int64(1), object(8)\n",
      "memory usage: 2.2+ MB\n"
     ]
    }
   ],
   "source": [
    "df.info()"
   ]
  },
  {
   "cell_type": "markdown",
   "metadata": {
    "id": "oaFe3ng-FgGb"
   },
   "source": [
    "3 colonnes ont des valeurs manquantes."
   ]
  },
  {
   "cell_type": "markdown",
   "metadata": {
    "id": "LN7hcNbSFmPQ"
   },
   "source": [
    "`BuildingArea` et `YearBuilt` manque beaucoup de valeurs et `CouncilArea` + 1000."
   ]
  },
  {
   "cell_type": "markdown",
   "metadata": {
    "id": "uG3-MIwGF9Nn"
   },
   "source": [
    "`nunique()` permet de connaître le nombre de valeur unique."
   ]
  },
  {
   "cell_type": "code",
   "execution_count": 7,
   "metadata": {
    "id": "vSXU7vYkF3Nh"
   },
   "outputs": [
    {
     "data": {
      "text/plain": [
       "Suburb             314\n",
       "Address          13378\n",
       "Rooms                9\n",
       "Type                 3\n",
       "Price             2204\n",
       "Method               5\n",
       "SellerG            268\n",
       "Date                58\n",
       "Distance           202\n",
       "Postcode           198\n",
       "Bedroom2            12\n",
       "Bathroom             9\n",
       "Car                 11\n",
       "Landsize          1448\n",
       "BuildingArea       602\n",
       "YearBuilt          144\n",
       "CouncilArea         33\n",
       "Lattitude         6503\n",
       "Longtitude        7063\n",
       "Regionname           8\n",
       "Propertycount      311\n",
       "dtype: int64"
      ]
     },
     "execution_count": 7,
     "metadata": {},
     "output_type": "execute_result"
    }
   ],
   "source": [
    "df.nunique()"
   ]
  },
  {
   "cell_type": "markdown",
   "metadata": {
    "id": "2k3g7eGCGSnC"
   },
   "source": [
    "Utiliser `drop` pour retirer les colonnes à valeurs manquantes.**bold text**"
   ]
  },
  {
   "cell_type": "code",
   "execution_count": 8,
   "metadata": {
    "id": "O8HmzqJ4Gg7d"
   },
   "outputs": [],
   "source": [
    "df = df.drop(columns=['BuildingArea', 'YearBuilt', 'CouncilArea'])"
   ]
  },
  {
   "cell_type": "code",
   "execution_count": 9,
   "metadata": {},
   "outputs": [
    {
     "data": {
      "text/plain": [
       "Suburb            0\n",
       "Address           0\n",
       "Rooms             0\n",
       "Type              0\n",
       "Price             0\n",
       "Method            0\n",
       "SellerG           0\n",
       "Date              0\n",
       "Distance          0\n",
       "Postcode          0\n",
       "Bedroom2          0\n",
       "Bathroom          0\n",
       "Car              62\n",
       "Landsize          0\n",
       "Lattitude         0\n",
       "Longtitude        0\n",
       "Regionname        0\n",
       "Propertycount     0\n",
       "dtype: int64"
      ]
     },
     "execution_count": 9,
     "metadata": {},
     "output_type": "execute_result"
    }
   ],
   "source": [
    "df.isnull().sum()"
   ]
  },
  {
   "cell_type": "code",
   "execution_count": 10,
   "metadata": {},
   "outputs": [],
   "source": [
    "df = df.drop(columns=['Car'])"
   ]
  },
  {
   "cell_type": "code",
   "execution_count": 11,
   "metadata": {},
   "outputs": [
    {
     "data": {
      "text/plain": [
       "Suburb           0\n",
       "Address          0\n",
       "Rooms            0\n",
       "Type             0\n",
       "Price            0\n",
       "Method           0\n",
       "SellerG          0\n",
       "Date             0\n",
       "Distance         0\n",
       "Postcode         0\n",
       "Bedroom2         0\n",
       "Bathroom         0\n",
       "Landsize         0\n",
       "Lattitude        0\n",
       "Longtitude       0\n",
       "Regionname       0\n",
       "Propertycount    0\n",
       "dtype: int64"
      ]
     },
     "execution_count": 11,
     "metadata": {},
     "output_type": "execute_result"
    }
   ],
   "source": [
    "df.isnull().sum()"
   ]
  },
  {
   "cell_type": "markdown",
   "metadata": {
    "id": "wSackF4oG2kz"
   },
   "source": [
    "Le remplaceemnt des valeurs manquantes à `car` n'apporte pas une bonne corrélation avec le prix. Elle sera retirer."
   ]
  },
  {
   "cell_type": "markdown",
   "metadata": {
    "id": "q8SH6oX3HSo7"
   },
   "source": [
    "df = df.drop(columns=['Car'])"
   ]
  },
  {
   "cell_type": "markdown",
   "metadata": {
    "id": "5qdag62AHov8"
   },
   "source": [
    "Ne manquant plus de valeurs au cade de données, filtrer les colonnes catégorielles avec des valeurs à faible cardinalité (moins de valeurs uniques ; moins de catégories)."
   ]
  },
  {
   "cell_type": "code",
   "execution_count": 12,
   "metadata": {
    "id": "OYdd8AIsHnTU"
   },
   "outputs": [],
   "source": [
    "low_cardinality_col = [col for col in df.columns if df[col].dtype == object and df[col].nunique() < 10]\n",
    "num_col = [col for col in df.columns if df[col].dtype in [int, float]]"
   ]
  },
  {
   "cell_type": "markdown",
   "metadata": {
    "id": "1ivOOnAPItYr"
   },
   "source": [
    "Concaténer les deux colonnes ci-dessus. Supprimer la colonne `Price` car c'est la variable cible (y) (= label) et créer l'ensemble de Features (X)."
   ]
  },
  {
   "cell_type": "code",
   "execution_count": 13,
   "metadata": {
    "id": "Lnpj17O1I832"
   },
   "outputs": [],
   "source": [
    "y = df['Price']\n",
    "X = df[low_cardinality_col + num_col].drop(columns='Price')"
   ]
  },
  {
   "cell_type": "code",
   "execution_count": 14,
   "metadata": {},
   "outputs": [
    {
     "data": {
      "text/plain": [
       "Type          3\n",
       "Method        5\n",
       "Regionname    8\n",
       "dtype: int64"
      ]
     },
     "execution_count": 14,
     "metadata": {},
     "output_type": "execute_result"
    }
   ],
   "source": [
    "X[low_cardinality_col].nunique()"
   ]
  },
  {
   "cell_type": "markdown",
   "metadata": {
    "id": "acGYqf6_J3x-"
   },
   "source": [
    "3 colonnnes catégorielles dans l'ensemble de Features X à convertir avant de nourrir le modèle de données de toutes les Features."
   ]
  },
  {
   "cell_type": "markdown",
   "metadata": {
    "id": "Cf-BJ5wSKdtS"
   },
   "source": [
    "L'encoder `one-hot Encoder` est inutilisable car ces 3 colonnes n'ont pas d'ordre particulier. Ce sera `labelEncoder`."
   ]
  },
  {
   "cell_type": "code",
   "execution_count": 15,
   "metadata": {
    "id": "Htki2_nAKyCO"
   },
   "outputs": [],
   "source": [
    "le = LabelEncoder()\n",
    "X['Type'] = le.fit_transform(df['Type'])\n",
    "X['Method'] = le.fit_transform(df['Method'])\n",
    "X['Regionname'] = le.fit_transform(df['Regionname'])"
   ]
  },
  {
   "cell_type": "markdown",
   "metadata": {
    "id": "REbzoorvK4ou"
   },
   "source": [
    "L'ensemble est entièrement numérique. La création du modèle est faisable."
   ]
  },
  {
   "cell_type": "markdown",
   "metadata": {
    "id": "D-OwURJoLZxz"
   },
   "source": [
    "La mise à l'échelle dépend du modèle utilisé.  \n",
    "Les modèles `DecisionTreeRegressor` et `RandomForestRegroessor` ne la nécessitent pas."
   ]
  },
  {
   "cell_type": "markdown",
   "metadata": {
    "id": "H1JNOnxVL42v"
   },
   "source": [
    "Il faut d'abord splitter les 2 ensembles."
   ]
  },
  {
   "cell_type": "code",
   "execution_count": 16,
   "metadata": {
    "id": "P32lMxVqMB60"
   },
   "outputs": [
    {
     "data": {
      "text/plain": [
       "((10864, 12), (2716, 12))"
      ]
     },
     "execution_count": 16,
     "metadata": {},
     "output_type": "execute_result"
    }
   ],
   "source": [
    "X_train, X_test, y_train, y_test = train_test_split(X, y, test_size=0.2, random_state=56)\n",
    "X_train.shape, X_test.shape"
   ]
  },
  {
   "cell_type": "code",
   "execution_count": 17,
   "metadata": {},
   "outputs": [
    {
     "data": {
      "text/plain": [
       "((10864,), (2716,))"
      ]
     },
     "execution_count": 17,
     "metadata": {},
     "output_type": "execute_result"
    }
   ],
   "source": [
    "y_train.shape, y_test.shape"
   ]
  },
  {
   "cell_type": "markdown",
   "metadata": {
    "id": "0oz6UyWKML5y"
   },
   "source": [
    "Créer le modèle de régression d'arbre de décision, puis vérifier la performance via l'erreur absolue moyenne."
   ]
  },
  {
   "cell_type": "code",
   "execution_count": 18,
   "metadata": {},
   "outputs": [
    {
     "name": "stdout",
     "output_type": "stream",
     "text": [
      "\n",
      "Dimensions de X_train : (10864, 12)\n",
      "Dimensions de X_test : (2716, 12)\n",
      "Dimensions de y_train : (10864,)\n",
      "Dimensions de y_test : (2716,)\n"
     ]
    }
   ],
   "source": [
    "# Vérifier les dimensions\n",
    "print(\"\\nDimensions de X_train :\", X_train.shape)\n",
    "print(\"Dimensions de X_test :\", X_test.shape)\n",
    "print(\"Dimensions de y_train :\", y_train.shape)\n",
    "print(\"Dimensions de y_test :\", y_test.shape)"
   ]
  },
  {
   "cell_type": "code",
   "execution_count": 19,
   "metadata": {
    "id": "mCjAxminMaSc"
   },
   "outputs": [
    {
     "name": "stdout",
     "output_type": "stream",
     "text": [
      "\n",
      "MAE pour DecisionTreeRegressor : 224820.11340206186\n"
     ]
    }
   ],
   "source": [
    "# Entraînemer le modèle DecisionTreeRegressor\n",
    "dtr = DecisionTreeRegressor()\n",
    "dtr.fit(X_train, y_train)\n",
    "dtr_prediction = dtr.predict(X_test)\n",
    "mae_dtr = mean_absolute_error(y_test, dtr_prediction)\n",
    "print(\"\\nMAE pour DecisionTreeRegressor :\", mae_dtr)"
   ]
  },
  {
   "cell_type": "code",
   "execution_count": 20,
   "metadata": {},
   "outputs": [
    {
     "data": {
      "text/plain": [
       "224820.11340206186"
      ]
     },
     "execution_count": 20,
     "metadata": {},
     "output_type": "execute_result"
    }
   ],
   "source": [
    "mae = mean_absolute_error(y_test, dtr_prediction)\n",
    "mae"
   ]
  },
  {
   "cell_type": "markdown",
   "metadata": {
    "id": "p4OGLYpRMf5U"
   },
   "source": [
    "La MAE est mauvaise.  \n",
    "Essayer le régresseur Random Forest. Une fonction simplifiera le processus."
   ]
  },
  {
   "cell_type": "code",
   "execution_count": 21,
   "metadata": {
    "id": "W3Wnqx5XMxyW"
   },
   "outputs": [
    {
     "data": {
      "text/plain": [
       "170211.17274002385"
      ]
     },
     "execution_count": 21,
     "metadata": {},
     "output_type": "execute_result"
    }
   ],
   "source": [
    "def rf_mae(X_train, X_test, y_train, y_test):\n",
    "    rfr = RandomForestRegressor()\n",
    "    rfr.fit(X_train, y_train)\n",
    "    prediction = rfr.predict(X_test)\n",
    "    rfr_mae = mean_absolute_error(y_test, prediction)\n",
    "    return rfr_mae\n",
    "\n",
    "rf_mae(X_train, X_test, y_train, y_test)"
   ]
  },
  {
   "cell_type": "markdown",
   "metadata": {},
   "source": [
    "Imparfait, mais meilleur que le modèle de régresseur par arbre de décision."
   ]
  }
 ],
 "metadata": {
  "colab": {
   "authorship_tag": "ABX9TyM3nMAEB2PjCEVJGLaE4atD",
   "provenance": []
  },
  "kernelspec": {
   "display_name": "Python [conda env:base] *",
   "language": "python",
   "name": "conda-base-py"
  },
  "language_info": {
   "codemirror_mode": {
    "name": "ipython",
    "version": 3
   },
   "file_extension": ".py",
   "mimetype": "text/x-python",
   "name": "python",
   "nbconvert_exporter": "python",
   "pygments_lexer": "ipython3",
   "version": "3.13.5"
  }
 },
 "nbformat": 4,
 "nbformat_minor": 4
}
