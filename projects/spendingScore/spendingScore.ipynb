{
  "nbformat": 4,
  "nbformat_minor": 0,
  "metadata": {
    "colab": {
      "provenance": []
    },
    "kernelspec": {
      "name": "python3",
      "display_name": "Python 3"
    },
    "language_info": {
      "name": "python"
    }
  },
  "cells": [
    {
      "cell_type": "code",
      "execution_count": null,
      "metadata": {
        "id": "GSfbo4t3vfkJ"
      },
      "outputs": [],
      "source": [
        "import numpy as np\n",
        "import pandas as pd\n",
        "import matplotlib.pyplot as plt\n",
        "import seaborn as sns"
      ]
    },
    {
      "cell_type": "code",
      "source": [
        "df = pd.read_csv('Mall_Customers.csv')"
      ],
      "metadata": {
        "id": "tYYI2_IvwT4A"
      },
      "execution_count": null,
      "outputs": []
    },
    {
      "cell_type": "markdown",
      "source": [
        "Méthodes pour comprendre les données"
      ],
      "metadata": {
        "id": "UMMN6S_4wsUg"
      }
    },
    {
      "cell_type": "code",
      "source": [
        "df.head()\n",
        "df.shape\n",
        "df.isnull().any()"
      ],
      "metadata": {
        "id": "bmi9XJKrw47_"
      },
      "execution_count": null,
      "outputs": []
    },
    {
      "cell_type": "markdown",
      "source": [
        "Renommer les colonnes pour les appeler facileemnt"
      ],
      "metadata": {
        "id": "CIFBNZc8xUrX"
      }
    },
    {
      "cell_type": "code",
      "source": [
        "df.rename(columns={\"Spending Score (1-100)\":'Spending Score'} , inplace=True)\n",
        "df.rename(columns={\"Annual Income (k$)\":'Annual Income'} , inplace=True)"
      ],
      "metadata": {
        "id": "TKxQ9QrexdYf"
      },
      "execution_count": null,
      "outputs": []
    },
    {
      "cell_type": "markdown",
      "source": [
        "Il ne manque pas de valeur.\n",
        "Séparer les données : x -> Features et y -> label."
      ],
      "metadata": {
        "id": "DBDOgdH5zTVW"
      }
    },
    {
      "cell_type": "code",
      "source": [
        "y=df['Spending Score']\n",
        "x=df.drop(columns='Spending Score')"
      ],
      "metadata": {
        "id": "A-OOW_8pzouX"
      },
      "execution_count": null,
      "outputs": []
    },
    {
      "cell_type": "markdown",
      "source": [
        "Diviser les données en ensemble d'entrainement et de test. Entre 10 et 30% c'est okay, ici 20 %.\n",
        "Le module de SeakitLearn \"train_test_split\" de \"sklearn.model_selection doit être importer."
      ],
      "metadata": {
        "id": "qL6CacH31DQr"
      }
    },
    {
      "cell_type": "code",
      "source": [
        "from sklearn.model_selection import train_test_split\n",
        "\n",
        "x_train , x_test , y_train , y_test=train_test_split(x , y , test_size=0.2 , random_state=45)\n",
        "\n",
        "print(x_train.shape , y_train.shape) # ((160 , 4) , (160,))\n",
        "print(x_test.shape , y_test.shape)   # ((40 , 4) , (40,))"
      ],
      "metadata": {
        "id": "VUz1-y161hVr"
      },
      "execution_count": null,
      "outputs": []
    },
    {
      "cell_type": "markdown",
      "source": [
        "À propos de la colonne catégorielle \"Gender\", il n'y a que 2 choix ici. Elle doit être convertie en colonne numérique avant d'aller à un modèle de ML."
      ],
      "metadata": {
        "id": "Zwa1HInr4EUE"
      }
    },
    {
      "cell_type": "code",
      "source": [
        "from sklearn.preprocessing import LabelEncoder\n",
        "\n",
        "le=LabelEncoder()\n",
        "x_train['Gender']=le.fit_transform(x_train['Gender'])\n",
        "x_test['Gender']=le.fit_transform(x_test['Gender'])"
      ],
      "metadata": {
        "id": "yixBspxX5CGn"
      },
      "execution_count": null,
      "outputs": []
    },
    {
      "cell_type": "markdown",
      "source": [
        "Toutes les données du tableau sont numérique et le genre 0 ou 1."
      ],
      "metadata": {
        "id": "Qe1kDc8H5iFT"
      }
    },
    {
      "cell_type": "markdown",
      "source": [
        "Utilisation du modèle de régression à vecteur de supoort (SVM), donc importer SVM de SeakitLearn."
      ],
      "metadata": {
        "id": "NyCKeCR75uNj"
      }
    },
    {
      "cell_type": "code",
      "source": [
        "from sklearn import svm\n",
        "\n",
        "svm_model=svm.SVR()\n",
        "svm_model.fit(x_train , y_train)\n",
        "\n",
        "svm_prediction=svm_model.predict(x_test)\n",
        "\n",
        "\n",
        "from sklearn.metrics import mean_absolute_error\n",
        "\n",
        "svm_mae=mean_absolute_error(y_test , svm_prediction)\n",
        "print(svm_mae) #  21.66895201510343 (faux)"
      ],
      "metadata": {
        "id": "0HSQod_E6JHU"
      },
      "execution_count": null,
      "outputs": []
    },
    {
      "cell_type": "markdown",
      "source": [
        "Puisse que c'est faux, essayer un modèle régresseur par arbre de décision."
      ],
      "metadata": {
        "id": "Ere-KX7o7LZL"
      }
    },
    {
      "cell_type": "code",
      "source": [
        "from sklearn.tree import DecisionTreeRegressor\n",
        "\n",
        "dt_model=DecisionTreeRegressor()\n",
        "dt_model.fit(x_train , y_train)\n",
        "\n",
        "dt_prediction=dt_model.predict(x_test)\n",
        "\n",
        "dt_mae=mean_absolute_error(y_test , dt_prediction)\n",
        "print(dt_mae) # 19.85 (faux)"
      ],
      "metadata": {
        "id": "Z4-QXW_57Xzc"
      },
      "execution_count": null,
      "outputs": []
    },
    {
      "cell_type": "markdown",
      "source": [
        "Standardiser les données avec \"StandardScaler\" serait-il mieux ?"
      ],
      "metadata": {
        "id": "7gedwp1h76pE"
      }
    },
    {
      "cell_type": "code",
      "source": [
        "from sklearn.preprocessing import StandardScaler\n",
        "\n",
        "std_scaler=StandardScaler()\n",
        "\n",
        "scaled_x_train=pd.DataFrame(std_scaler.fit_transform(x_train) , columns=x_train.columns)\n",
        "scaled_x_test=pd.DataFrame(std_scaler.fit_transform(x_test) , columns=x_test.columns)\n",
        "\n",
        "le=LabelEncoder()\n",
        "scaled_x_train['Gender']=le.fit_transform(scaled_x_train['Gender'])\n",
        "scaled_x_test['Gender']=le.fit_transform(scaled_x_test['Gender'])\n",
        "\n",
        "svm_model.fit(scaled_x_train , y_train)\n",
        "\n",
        "new_svm_prediction=svm_model.predict(scaled_x_test)\n",
        "\n",
        "new_svm_prediction=svm_model.predict(scaled_x_test)\n",
        "\n",
        "mean_absolute_error(y_test , new_svm_prediction)\n",
        "print(mean_absolute_error) # 20.433053 (pas mieux)"
      ],
      "metadata": {
        "id": "MzKeZCnm8LF2"
      },
      "execution_count": null,
      "outputs": []
    },
    {
      "cell_type": "markdown",
      "source": [
        "Utiliser un modèle de régression linéaire."
      ],
      "metadata": {
        "id": "SS67grLq9gf5"
      }
    },
    {
      "cell_type": "code",
      "source": [
        "from sklearn.linear_model import LinearRegression\n",
        "\n",
        "lr_model=LinearRegression()\n",
        "lr_model.fit(scaled_x_train,y_train)\n",
        "\n",
        "lr_prediction=lr_model.predict(scaled_x_test)\n",
        "lr_prediction\n",
        "\n",
        "lr_mae = mean_absolute_error(y_test , lr_prediction)\n",
        "print(lr_mae) # 21.314590 (La régression n'est pas forcément adaptée)"
      ],
      "metadata": {
        "id": "OWW6TKZr9mj7"
      },
      "execution_count": null,
      "outputs": []
    }
  ]
}