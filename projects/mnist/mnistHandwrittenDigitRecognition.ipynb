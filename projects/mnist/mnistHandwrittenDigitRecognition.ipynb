{
 "cells": [
  {
   "cell_type": "code",
   "id": "initial_id",
   "metadata": {
    "collapsed": true,
    "ExecuteTime": {
     "end_time": "2025-10-08T19:14:21.328033Z",
     "start_time": "2025-10-08T19:14:21.309306Z"
    }
   },
   "source": [
    "import ssl\n",
    "import urllib.request\n",
    "from   sklearn.datasets        import fetch_openml\n",
    "import matplotlib.pyplot       as     plt\n",
    "import numpy                   as     np\n",
    "from   sklearn.model_selection import train_test_split, GridSearchCV\n",
    "from   sklearn.svm             import SVC\n",
    "from   sklearn.metrics         import accuracy_score, confusion_matrix\n",
    "import seaborn                 as     sns\n",
    "from   sklearn.linear_model    import SGDClassifier\n",
    "from   sklearn.preprocessing   import StandardScaler\n",
    "from   sklearn.model_selection import cross_val_score\n",
    "import pandas                  as     pd\n",
    "from scipy.io                  import loadmat"
   ],
   "outputs": [],
   "execution_count": 7
  },
  {
   "metadata": {
    "ExecuteTime": {
     "end_time": "2025-10-08T19:15:13.736760Z",
     "start_time": "2025-10-08T19:15:13.603933Z"
    }
   },
   "cell_type": "code",
   "source": [
    "#  Contexte SSL non vérifié\n",
    "ssl._create_default_https_context = ssl._create_unverified_context\n",
    "\n",
    "mnist = loadmat('mnist-original.mat')\n",
    "mnist"
   ],
   "id": "a6446be9ed50a265",
   "outputs": [
    {
     "data": {
      "text/plain": [
       "{'__header__': b'MATLAB 5.0 MAT-file Platform: posix, Created on: Sun Mar 30 03:19:02 2014',\n",
       " '__version__': '1.0',\n",
       " '__globals__': [],\n",
       " 'mldata_descr_ordering': array([[array(['label'], dtype='<U5'), array(['data'], dtype='<U4')]],\n",
       "       dtype=object),\n",
       " 'data': array([[0, 0, 0, ..., 0, 0, 0],\n",
       "        [0, 0, 0, ..., 0, 0, 0],\n",
       "        [0, 0, 0, ..., 0, 0, 0],\n",
       "        ...,\n",
       "        [0, 0, 0, ..., 0, 0, 0],\n",
       "        [0, 0, 0, ..., 0, 0, 0],\n",
       "        [0, 0, 0, ..., 0, 0, 0]], shape=(784, 70000), dtype=uint8),\n",
       " 'label': array([[0., 0., 0., ..., 9., 9., 9.]], shape=(1, 70000))}"
      ]
     },
     "execution_count": 8,
     "metadata": {},
     "output_type": "execute_result"
    }
   ],
   "execution_count": 8
  },
  {
   "metadata": {
    "ExecuteTime": {
     "end_time": "2025-10-08T19:15:48.859010Z",
     "start_time": "2025-10-08T19:15:48.812335Z"
    }
   },
   "cell_type": "code",
   "source": [
    "# Que contient-il ?\n",
    "mnist.keys()"
   ],
   "id": "68bde0fe97cf346f",
   "outputs": [
    {
     "data": {
      "text/plain": [
       "dict_keys(['__header__', '__version__', '__globals__', 'mldata_descr_ordering', 'data', 'label'])"
      ]
     },
     "execution_count": 9,
     "metadata": {},
     "output_type": "execute_result"
    }
   ],
   "execution_count": 9
  },
  {
   "metadata": {},
   "cell_type": "markdown",
   "source": [
    "Le très célèbre dataset MNIST est dans la bibliothèque SeakitLearn.\n",
    "Je l'ai téléchargé pour les performances."
   ],
   "id": "a5632cf9e2e7b6e3"
  },
  {
   "metadata": {
    "ExecuteTime": {
     "end_time": "2025-10-08T19:18:38.100672Z",
     "start_time": "2025-10-08T19:18:38.078291Z"
    }
   },
   "cell_type": "code",
   "source": [
    "# Explorer les données une à une\n",
    "data = mnist['data']\n",
    "data"
   ],
   "id": "8a3c24261741ff9a",
   "outputs": [
    {
     "data": {
      "text/plain": [
       "array([[0, 0, 0, ..., 0, 0, 0],\n",
       "       [0, 0, 0, ..., 0, 0, 0],\n",
       "       [0, 0, 0, ..., 0, 0, 0],\n",
       "       ...,\n",
       "       [0, 0, 0, ..., 0, 0, 0],\n",
       "       [0, 0, 0, ..., 0, 0, 0],\n",
       "       [0, 0, 0, ..., 0, 0, 0]], shape=(784, 70000), dtype=uint8)"
      ]
     },
     "execution_count": 15,
     "metadata": {},
     "output_type": "execute_result"
    }
   ],
   "execution_count": 15
  },
  {
   "metadata": {
    "ExecuteTime": {
     "end_time": "2025-10-08T19:18:23.423264Z",
     "start_time": "2025-10-08T19:18:23.374070Z"
    }
   },
   "cell_type": "code",
   "source": "labels = mnist['label']",
   "id": "ae6b61838e5b4633",
   "outputs": [],
   "execution_count": 14
  },
  {
   "metadata": {
    "ExecuteTime": {
     "end_time": "2025-10-08T19:29:26.633740Z",
     "start_time": "2025-10-08T19:29:26.239054Z"
    }
   },
   "cell_type": "code",
   "source": [
    "# Combien y a-t-il d'images de chiffres manuscrit ?\n",
    "mnist.shape"
   ],
   "id": "14b2bdd914ed858c",
   "outputs": [
    {
     "ename": "NameError",
     "evalue": "name 'mnist' is not defined",
     "output_type": "error",
     "traceback": [
      "\u001B[31m---------------------------------------------------------------------------\u001B[39m",
      "\u001B[31mNameError\u001B[39m                                 Traceback (most recent call last)",
      "\u001B[36mCell\u001B[39m\u001B[36m \u001B[39m\u001B[32mIn[1]\u001B[39m\u001B[32m, line 2\u001B[39m\n\u001B[32m      1\u001B[39m \u001B[38;5;66;03m# Combien y a-t-il d'images de chiffres manuscrit ?\u001B[39;00m\n\u001B[32m----> \u001B[39m\u001B[32m2\u001B[39m \u001B[43mmnist\u001B[49m.shape\n",
      "\u001B[31mNameError\u001B[39m: name 'mnist' is not defined"
     ]
    }
   ],
   "execution_count": 1
  }
 ],
 "metadata": {
  "kernelspec": {
   "display_name": "Python 3",
   "language": "python",
   "name": "python3"
  },
  "language_info": {
   "codemirror_mode": {
    "name": "ipython",
    "version": 2
   },
   "file_extension": ".py",
   "mimetype": "text/x-python",
   "name": "python",
   "nbconvert_exporter": "python",
   "pygments_lexer": "ipython2",
   "version": "2.7.6"
  }
 },
 "nbformat": 4,
 "nbformat_minor": 5
}
