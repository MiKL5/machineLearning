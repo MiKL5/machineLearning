{
 "cells": [
  {
   "cell_type": "code",
   "execution_count": 1,
   "metadata": {
    "id": "GSfbo4t3vfkJ"
   },
   "outputs": [],
   "source": [
    "import numpy             as np\n",
    "import pandas            as pd\n",
    "import matplotlib.pyplot as plt\n",
    "import seaborn           as sns"
   ]
  },
  {
   "cell_type": "code",
   "execution_count": 2,
   "metadata": {
    "id": "tYYI2_IvwT4A"
   },
   "outputs": [],
   "source": [
    "df = pd.read_csv('Mall_Customers.csv')"
   ]
  },
  {
   "cell_type": "markdown",
   "metadata": {
    "id": "UMMN6S_4wsUg"
   },
   "source": [
    "### Méthodes pour comprendre les données"
   ]
  },
  {
   "cell_type": "code",
   "execution_count": 3,
   "metadata": {
    "id": "bmi9XJKrw47_"
   },
   "outputs": [
    {
     "data": {
      "text/plain": [
       "CustomerID                False\n",
       "Gender                    False\n",
       "Age                       False\n",
       "Annual Income (k$)        False\n",
       "Spending Score (1-100)    False\n",
       "dtype: bool"
      ]
     },
     "execution_count": 3,
     "metadata": {},
     "output_type": "execute_result"
    }
   ],
   "source": [
    "df.head()\n",
    "df.shape\n",
    "df.isnull().any()"
   ]
  },
  {
   "cell_type": "markdown",
   "metadata": {
    "id": "CIFBNZc8xUrX"
   },
   "source": [
    "Renommer les colonnes pour les appeler facileemnt"
   ]
  },
  {
   "cell_type": "code",
   "execution_count": 4,
   "metadata": {
    "id": "TKxQ9QrexdYf"
   },
   "outputs": [],
   "source": [
    "df.rename(columns={\"Spending Score (1-100)\":'Spending Score'} , inplace=True)\n",
    "df.rename(columns={\"Annual Income (k$)\":'Annual Income'} , inplace=True)"
   ]
  },
  {
   "cell_type": "markdown",
   "metadata": {
    "id": "DBDOgdH5zTVW"
   },
   "source": [
    "Il ne manque pas de valeur.\n",
    "Séparer les données : x -> Features et y -> label."
   ]
  },
  {
   "cell_type": "code",
   "execution_count": 5,
   "metadata": {
    "id": "A-OOW_8pzouX"
   },
   "outputs": [],
   "source": [
    "y=df['Spending Score']\n",
    "x=df.drop(columns='Spending Score')"
   ]
  },
  {
   "cell_type": "markdown",
   "metadata": {
    "id": "qL6CacH31DQr"
   },
   "source": [
    "Diviser les données en ensemble d'entrainement et de test. Entre 10 et 30% c'est okay, ici 20 %.\n",
    "Le module de SeakitLearn \"train_test_split\" de \"sklearn.model_selection doit être importer."
   ]
  },
  {
   "cell_type": "code",
   "execution_count": 6,
   "metadata": {
    "id": "VUz1-y161hVr"
   },
   "outputs": [
    {
     "name": "stdout",
     "output_type": "stream",
     "text": [
      "(160, 4) (160,)\n",
      "(40, 4) (40,)\n"
     ]
    }
   ],
   "source": [
    "from sklearn.model_selection import train_test_split\n",
    "\n",
    "x_train , x_test , y_train , y_test=train_test_split(x , y , test_size=0.2 , random_state=45)\n",
    "\n",
    "print(x_train.shape , y_train.shape) # ((160 , 4) , (160,))\n",
    "print(x_test.shape , y_test.shape)   # ((40 , 4) , (40,))"
   ]
  },
  {
   "cell_type": "markdown",
   "metadata": {
    "id": "Zwa1HInr4EUE"
   },
   "source": [
    "À propos de la colonne catégorielle \"Gender\", il n'y a que 2 choix ici. Elle doit être convertie en colonne numérique avant d'aller à un modèle de ML."
   ]
  },
  {
   "cell_type": "code",
   "execution_count": 7,
   "metadata": {
    "id": "yixBspxX5CGn"
   },
   "outputs": [],
   "source": [
    "from sklearn.preprocessing import LabelEncoder\n",
    "\n",
    "le=LabelEncoder()\n",
    "x_train['Gender']=le.fit_transform(x_train['Gender'])\n",
    "x_test['Gender']=le.fit_transform(x_test['Gender'])"
   ]
  },
  {
   "cell_type": "markdown",
   "metadata": {
    "id": "Qe1kDc8H5iFT"
   },
   "source": [
    "Toutes les données du tableau sont numérique et le genre 0 ou 1."
   ]
  },
  {
   "cell_type": "markdown",
   "metadata": {
    "id": "NyCKeCR75uNj"
   },
   "source": [
    "Utilisation du modèle de régression à vecteur de supoort (SVM), donc importer SVM de SeakitLearn."
   ]
  },
  {
   "cell_type": "code",
   "execution_count": 8,
   "metadata": {
    "id": "0HSQod_E6JHU"
   },
   "outputs": [
    {
     "name": "stdout",
     "output_type": "stream",
     "text": [
      "21.66895201510343\n"
     ]
    }
   ],
   "source": [
    "from sklearn import svm\n",
    "\n",
    "svm_model=svm.SVR()\n",
    "svm_model.fit(x_train , y_train)\n",
    "\n",
    "svm_prediction=svm_model.predict(x_test)\n",
    "\n",
    "\n",
    "from sklearn.metrics import mean_absolute_error\n",
    "\n",
    "svm_mae=mean_absolute_error(y_test , svm_prediction)\n",
    "print(svm_mae) #  21.66895201510343 (faux)"
   ]
  },
  {
   "cell_type": "markdown",
   "metadata": {
    "id": "Ere-KX7o7LZL"
   },
   "source": [
    "Puisse que c'est faux, essayer un modèle régresseur par arbre de décision."
   ]
  },
  {
   "cell_type": "code",
   "execution_count": 9,
   "metadata": {
    "id": "Z4-QXW_57Xzc"
   },
   "outputs": [
    {
     "name": "stdout",
     "output_type": "stream",
     "text": [
      "20.05\n"
     ]
    }
   ],
   "source": [
    "from sklearn.tree import DecisionTreeRegressor\n",
    "\n",
    "dt_model=DecisionTreeRegressor()\n",
    "dt_model.fit(x_train , y_train)\n",
    "\n",
    "dt_prediction=dt_model.predict(x_test)\n",
    "\n",
    "dt_mae=mean_absolute_error(y_test , dt_prediction)\n",
    "print(dt_mae) # 19.85 (faux)"
   ]
  },
  {
   "cell_type": "markdown",
   "metadata": {
    "id": "7gedwp1h76pE"
   },
   "source": [
    "Standardiser les données avec \"StandardScaler\" serait-il mieux ?"
   ]
  },
  {
   "cell_type": "code",
   "execution_count": 10,
   "metadata": {
    "id": "MzKeZCnm8LF2"
   },
   "outputs": [
    {
     "name": "stdout",
     "output_type": "stream",
     "text": [
      "<function mean_absolute_error at 0x1688b5260>\n"
     ]
    }
   ],
   "source": [
    "from sklearn.preprocessing import StandardScaler\n",
    "\n",
    "std_scaler=StandardScaler()\n",
    "\n",
    "scaled_x_train=pd.DataFrame(std_scaler.fit_transform(x_train) , columns=x_train.columns)\n",
    "scaled_x_test=pd.DataFrame(std_scaler.fit_transform(x_test) , columns=x_test.columns)\n",
    "\n",
    "le=LabelEncoder()\n",
    "scaled_x_train['Gender']=le.fit_transform(scaled_x_train['Gender'])\n",
    "scaled_x_test['Gender']=le.fit_transform(scaled_x_test['Gender'])\n",
    "\n",
    "svm_model.fit(scaled_x_train , y_train)\n",
    "\n",
    "new_svm_prediction=svm_model.predict(scaled_x_test)\n",
    "\n",
    "new_svm_prediction=svm_model.predict(scaled_x_test)\n",
    "\n",
    "mean_absolute_error(y_test , new_svm_prediction)\n",
    "print(mean_absolute_error) # 20.433053 (pas mieux)"
   ]
  },
  {
   "cell_type": "markdown",
   "metadata": {
    "id": "SS67grLq9gf5"
   },
   "source": [
    "Utiliser un modèle de régression linéaire."
   ]
  },
  {
   "cell_type": "code",
   "execution_count": 11,
   "metadata": {
    "id": "OWW6TKZr9mj7"
   },
   "outputs": [
    {
     "name": "stdout",
     "output_type": "stream",
     "text": [
      "21.162694166396186\n"
     ]
    }
   ],
   "source": [
    "from sklearn.linear_model import LinearRegression\n",
    "\n",
    "lr_model=LinearRegression()\n",
    "lr_model.fit(scaled_x_train,y_train)\n",
    "\n",
    "lr_prediction=lr_model.predict(scaled_x_test)\n",
    "lr_prediction\n",
    "\n",
    "lr_mae = mean_absolute_error(y_test , lr_prediction)\n",
    "print(lr_mae) # 21.314590 (La régression n'est pas forcément adaptée)"
   ]
  }
 ],
 "metadata": {
  "colab": {
   "provenance": []
  },
  "kernelspec": {
   "display_name": "Python [conda env:base] *",
   "language": "python",
   "name": "conda-base-py"
  },
  "language_info": {
   "codemirror_mode": {
    "name": "ipython",
    "version": 3
   },
   "file_extension": ".py",
   "mimetype": "text/x-python",
   "name": "python",
   "nbconvert_exporter": "python",
   "pygments_lexer": "ipython3",
   "version": "3.13.5"
  }
 },
 "nbformat": 4,
 "nbformat_minor": 4
}
