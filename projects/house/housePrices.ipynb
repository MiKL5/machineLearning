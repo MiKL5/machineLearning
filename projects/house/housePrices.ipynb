{
 "cells": [
  {
   "cell_type": "code",
   "execution_count": 1,
   "metadata": {
    "id": "zFryyldtxZtA"
   },
   "outputs": [],
   "source": [
    "                             import pandas as pd\n",
    "from sklearn.ensemble        import RandomForestRegressor\n",
    "from sklearn.metrics         import mean_absolute_error, mean_absolute_percentage_error\n",
    "from sklearn.model_selection import train_test_split\n",
    "from sklearn.preprocessing   import LabelEncoder\n",
    "from sklearn.tree            import DecisionTreeRegressor"
   ]
  },
  {
   "cell_type": "code",
   "execution_count": 2,
   "metadata": {},
   "outputs": [],
   "source": [
    "pd.set_option('display.max_columns', 100)\n",
    "pd.set_option('display.max_rows', 100)"
   ]
  },
  {
   "cell_type": "markdown",
   "metadata": {
    "id": "CvBn1x4RzitM"
   },
   "source": [
    "Pour voir toutes les colonnes `set_option` au cas ou Google Colab n'affiche que les premières et dernières colonnes.\n",
    "\n",
    "Aujourd'hui seules les bibliothèques utiles seront importées."
   ]
  },
  {
   "cell_type": "code",
   "execution_count": 3,
   "metadata": {
    "id": "LQ-29pqLzb8N"
   },
   "outputs": [],
   "source": [
    "housing_train = pd.read_csv('HousingPriceTrain.csv')\n",
    "housing_test  = pd.read_csv('HousingPriceTest.csv')"
   ]
  },
  {
   "cell_type": "markdown",
   "metadata": {
    "id": "W9KjHH0g0O5H"
   },
   "source": [
    "Le premier sert à l'entraînement (contenant la colonnes Labels) et le second au test.  \n",
    "C'est un gros dataset par le nombre de colonnes."
   ]
  },
  {
   "cell_type": "code",
   "execution_count": 4,
   "metadata": {
    "id": "k-lENKo85I-a"
   },
   "outputs": [
    {
     "data": {
      "text/plain": [
       "((1460, 81), (1459, 80))"
      ]
     },
     "execution_count": 4,
     "metadata": {},
     "output_type": "execute_result"
    }
   ],
   "source": [
    "housing_train.shape, housing_test.shape"
   ]
  },
  {
   "cell_type": "markdown",
   "metadata": {
    "id": "VaPuKReL5Py7"
   },
   "source": [
    "Combien de colonnes n'ont pas de valeurs ?"
   ]
  },
  {
   "cell_type": "code",
   "execution_count": 5,
   "metadata": {
    "id": "WJXOrxVE5WvA"
   },
   "outputs": [],
   "source": [
    "null_value_cols = [col for col in housing_train.columns if housing_train[col].isnull().any()]"
   ]
  },
  {
   "cell_type": "code",
   "execution_count": 6,
   "metadata": {},
   "outputs": [
    {
     "data": {
      "text/plain": [
       "LotFrontage      259\n",
       "Alley           1369\n",
       "MasVnrType       872\n",
       "MasVnrArea         8\n",
       "BsmtQual          37\n",
       "BsmtCond          37\n",
       "BsmtExposure      38\n",
       "BsmtFinType1      37\n",
       "BsmtFinType2      38\n",
       "Electrical         1\n",
       "FireplaceQu      690\n",
       "GarageType        81\n",
       "GarageYrBlt       81\n",
       "GarageFinish      81\n",
       "GarageQual        81\n",
       "GarageCond        81\n",
       "PoolQC          1453\n",
       "Fence           1179\n",
       "MiscFeature     1406\n",
       "dtype: int64"
      ]
     },
     "execution_count": 6,
     "metadata": {},
     "output_type": "execute_result"
    }
   ],
   "source": [
    "housing_train[null_value_cols].isnull().sum()"
   ]
  },
  {
   "cell_type": "markdown",
   "metadata": {
    "id": "JOMLTeQj5vfY"
   },
   "source": [
    "Ayant beaucoup de valeurs manquante, '`Alley`', '`PoolQC`', '`Fence`' et '`MiscFeature`' sont inutiles, ainsi que '`MasVnrType`' et '`ireplaceQu`' ayant environ 50% de valeurs manquates."
   ]
  },
  {
   "cell_type": "markdown",
   "metadata": {
    "id": "IZXVPg_G8MsJ"
   },
   "source": [
    " '`LotFrontage`' manque de beaucop de valeurs. En ne supprimant que les lignes manquantes, la perte de lignes et trop importante ; en supprimant la colonne, la perte de 140 lignes est acceptable."
   ]
  },
  {
   "cell_type": "code",
   "execution_count": 7,
   "metadata": {
    "editable": true,
    "slideshow": {
     "slide_type": ""
    },
    "tags": []
   },
   "outputs": [],
   "source": [
    "housing_train = housing_train.drop(columns=['Alley', 'MasVnrType', 'FireplaceQu', 'PoolQC', 'Fence', 'MiscFeature', 'LotFrontage'])"
   ]
  },
  {
   "cell_type": "code",
   "execution_count": 8,
   "metadata": {
    "id": "3WJTtO7T7UQq"
   },
   "outputs": [],
   "source": [
    "housing_test  = housing_test.drop(columns=['Alley', 'MasVnrType', 'FireplaceQu', 'PoolQC', 'Fence', 'MiscFeature'])"
   ]
  },
  {
   "cell_type": "markdown",
   "metadata": {
    "id": "6YiubTlZ7esa"
   },
   "source": [
    "Vérifier le type de données de toutes les colonnes à valeurs null ; pour une colonne catégorielle ou numérique, la stratégie diffère."
   ]
  },
  {
   "cell_type": "markdown",
   "metadata": {
    "id": "4rVGTUOK9972"
   },
   "source": [
    "fresh_housing_train = housing_train.dropna()\n",
    "fresh_housing_train.shape"
   ]
  },
  {
   "cell_type": "code",
   "execution_count": 13,
   "metadata": {},
   "outputs": [],
   "source": [
    "fresh_housing_train = housing_train.dropna()"
   ]
  },
  {
   "cell_type": "code",
   "execution_count": 14,
   "metadata": {},
   "outputs": [
    {
     "data": {
      "text/plain": [
       "(1338, 74)"
      ]
     },
     "execution_count": 14,
     "metadata": {},
     "output_type": "execute_result"
    }
   ],
   "source": [
    "fresh_housing_train.shape"
   ]
  },
  {
   "cell_type": "markdown",
   "metadata": {
    "id": "iMv7rGfZ-V45"
   },
   "source": [
    "La forme/shape du DataFrame est passée de 1460 à 1338 sans valeurs null ou de valeurs manquantes."
   ]
  },
  {
   "cell_type": "code",
   "execution_count": 15,
   "metadata": {
    "id": "PwKq2DWK-lcP"
   },
   "outputs": [],
   "source": [
    "low_cardinality_col = [col for col in fresh_housing_train.columns\n",
    "                       if fresh_housing_train[col].dtype == object\n",
    "                       and fresh_housing_train[col].nunique() < 10]\n",
    "high_cardinality_col = [col for col in fresh_housing_train.columns\n",
    "                        if fresh_housing_train[col].dtype == object\n",
    "                        and fresh_housing_train[col].nunique() >= 10]\n",
    "num_col = [col for col in fresh_housing_train.columns if fresh_housing_train[col].dtype in [int, float]]"
   ]
  },
  {
   "cell_type": "markdown",
   "metadata": {
    "id": "TglI8XAU-2st"
   },
   "source": [
    "Séparation des colonnes en 3 catégories , n'ayant pas le même pré-traitement :\n",
    "* '`low_cardinality_col`' pour les colonnes catégorielles de moins de 10 valeurs uniques ;\n",
    "* '`high_cardinality_col`' celles présentant un grand nombre de catégories (+10) ;\n",
    "*  '`num_col`' pour les colonnes numériques."
   ]
  },
  {
   "cell_type": "code",
   "execution_count": 16,
   "metadata": {
    "id": "XfMMokhFA-ic"
   },
   "outputs": [],
   "source": [
    "new_housing_train = pd.concat([fresh_housing_train[low_cardinality_col], fresh_housing_train[high_cardinality_col], fresh_housing_train[num_col]], axis=1)"
   ]
  },
  {
   "cell_type": "markdown",
   "metadata": {
    "id": "4HO0ZWWXBAnX"
   },
   "source": [
    "La colonne '`id`' est inutile et supprimmmer '`LostFrontage`'.  \n",
    "Recombiner les colonnes."
   ]
  },
  {
   "cell_type": "code",
   "execution_count": 17,
   "metadata": {
    "id": "3QBJ9X6SBfr7"
   },
   "outputs": [],
   "source": [
    "new_housing_train = new_housing_train.drop(columns='ID')\n",
    "housing_test = housing_test.drop(columns=['LotFrontage', 'ID'])"
   ]
  },
  {
   "cell_type": "markdown",
   "metadata": {
    "id": "FUJ5_vrcBhf4"
   },
   "source": [
    "Appliquer à l’ensemble de test tous les traitements préalables effectués pour l’ensemble d’entraînement train."
   ]
  },
  {
   "cell_type": "code",
   "execution_count": 18,
   "metadata": {
    "id": "KWwCb8CNCBM6"
   },
   "outputs": [],
   "source": [
    "null_value_cols = [col for col in housing_test.columns if housing_test[col].isnull().any()]\n",
    "housing_test[housing_test.isnull().any(axis=1)][null_value_cols]\n",
    "fresh_housing_test = housing_test.dropna()\n",
    "low_cardinality_col = [col for col in fresh_housing_test.columns\n",
    "                       if fresh_housing_test[col].dtype == object\n",
    "                       and fresh_housing_test[col].nunique() < 10]\n",
    "high_cardinality_col = [col for col in fresh_housing_test.columns\n",
    "                        if fresh_housing_test[col].dtype == object\n",
    "                        and fresh_housing_test[col].nunique() >= 10]\n",
    "num_col = [col for col in fresh_housing_test.columns if fresh_housing_test[col].dtype in [int, float]]\n",
    "new_housing_test = pd.concat([fresh_housing_test[low_cardinality_col], fresh_housing_test[high_cardinality_col],\n",
    "                             fresh_housing_test[num_col]], axis=1)"
   ]
  },
  {
   "cell_type": "markdown",
   "metadata": {
    "id": "nzLHCFQ2CFYj"
   },
   "source": [
    "Copier l'ensemble d'entraînement et de test et poursuivre le traitement."
   ]
  },
  {
   "cell_type": "code",
   "execution_count": 19,
   "metadata": {
    "id": "tkMVssb3CWCK"
   },
   "outputs": [],
   "source": [
    "copy_of_housing_train = new_housing_train.copy()\n",
    "copy_of_housing_test = new_housing_test.copy()"
   ]
  },
  {
   "cell_type": "markdown",
   "metadata": {
    "id": "PUbQtWigCYxa"
   },
   "source": [
    "Traiter ou encoder les valeurs catégorielles."
   ]
  },
  {
   "cell_type": "code",
   "execution_count": 20,
   "metadata": {
    "id": "H9cpPlsECfGN"
   },
   "outputs": [],
   "source": [
    "from sklearn.preprocessing import LabelEncoder\n",
    "le = LabelEncoder()\n",
    "cat_col = low_cardinality_col + high_cardinality_col\n",
    "for col in cat_col:\n",
    "  new_housing_train[col] = le.fit_transform(new_housing_train[col])\n",
    "for col in cat_col:\n",
    "  new_housing_test[col] = le.fit_transform(new_housing_test[col])"
   ]
  },
  {
   "cell_type": "markdown",
   "metadata": {
    "id": "Kvb3AtZ-Csyy"
   },
   "source": [
    "Les ensembles d'entraînement et de test sont parfaits.  \n",
    "Diviser le set d'entraînement en set d'entraînement + set de validation.  \n",
    "Utiliser l'ensemble de test que pour les tests."
   ]
  },
  {
   "cell_type": "code",
   "execution_count": 21,
   "metadata": {
    "id": "71wYIL7uDWFE"
   },
   "outputs": [
    {
     "data": {
      "text/plain": [
       "((1070, 72), (268, 72))"
      ]
     },
     "execution_count": 21,
     "metadata": {},
     "output_type": "execute_result"
    }
   ],
   "source": [
    "from sklearn.model_selection import train_test_split\n",
    "y = new_housing_train['SalePrice']\n",
    "X = new_housing_train.drop(columns='SalePrice')\n",
    "X_train, X_test, y_train, y_test = train_test_split(X, y, test_size=0.2, random_state=766)\n",
    "X_train.shape, X_test.shape   # ((1070, 72), (268, 72))"
   ]
  },
  {
   "cell_type": "markdown",
   "metadata": {
    "id": "MErkf4-bDXCB"
   },
   "source": [
    "Les colonnes numéiques ne sont pas normalisés ; le '`DecisionTreeRegressor`' et '`le RandomForestRegressor`' fonctionnent bienn avec ce type de données."
   ]
  },
  {
   "cell_type": "code",
   "execution_count": 22,
   "metadata": {
    "id": "zJXkECDkD29r"
   },
   "outputs": [],
   "source": [
    "from sklearn.tree import DecisionTreeRegressor\n",
    "from sklearn.ensemble import RandomForestRegressor\n",
    "dtr = DecisionTreeRegressor()\n",
    "rfr = RandomForestRegressor()\n",
    "dtr.fit(X_train, y_train)\n",
    "dtr_prediction = dtr.predict(X_test)\n",
    "rfr.fit(X_train, y_train)\n",
    "rfr_prediction = rfr.predict(X_test)"
   ]
  },
  {
   "cell_type": "markdown",
   "metadata": {
    "id": "406N6BmSD5I4"
   },
   "source": [
    "Quel modèle fonctoinne mieux ?"
   ]
  },
  {
   "cell_type": "code",
   "execution_count": 23,
   "metadata": {
    "id": "D-S8bqz-LRgl"
   },
   "outputs": [
    {
     "data": {
      "text/plain": [
       "(25750.776119402984, 13.827789958207473)"
      ]
     },
     "execution_count": 23,
     "metadata": {},
     "output_type": "execute_result"
    }
   ],
   "source": [
    "from sklearn.metrics import mean_absolute_error, mean_absolute_percentage_error\n",
    "dtr_error = mean_absolute_error(y_test, dtr_prediction)\n",
    "dtr_error_percentage = mean_absolute_percentage_error(y_test, dtr_prediction)\n",
    "dtr_error, dtr_error_percentage*100"
   ]
  },
  {
   "cell_type": "markdown",
   "metadata": {},
   "source": [
    "C'est bien."
   ]
  },
  {
   "cell_type": "code",
   "execution_count": 24,
   "metadata": {
    "id": "fJc0k6gREQ4F"
   },
   "outputs": [
    {
     "data": {
      "text/plain": [
       "(18598.440335820895, 10.256621579655615)"
      ]
     },
     "execution_count": 24,
     "metadata": {},
     "output_type": "execute_result"
    }
   ],
   "source": [
    "rfr_error = mean_absolute_error(y_test, rfr_prediction)\n",
    "rfr_error_percentage = mean_absolute_percentage_error(y_test, rfr_prediction)\n",
    "rfr_error, rfr_error_percentage*100"
   ]
  },
  {
   "cell_type": "markdown",
   "metadata": {},
   "source": [
    "C'est mieux."
   ]
  },
  {
   "cell_type": "markdown",
   "metadata": {
    "id": "9HfAxDm5EYsA"
   },
   "source": [
    "Sansparamètre, les 2 modèles fonctionnent bien ; il y a eu un bon pré-traitement des données.  \n",
    "L'Analyse Exploratoire de Données est très importante."
   ]
  }
 ],
 "metadata": {
  "colab": {
   "authorship_tag": "ABX9TyOCSXA8foixMN9IkPZ4aRO7",
   "provenance": []
  },
  "kernelspec": {
   "display_name": "Python [conda env:base] *",
   "language": "python",
   "name": "conda-base-py"
  },
  "language_info": {
   "codemirror_mode": {
    "name": "ipython",
    "version": 3
   },
   "file_extension": ".py",
   "mimetype": "text/x-python",
   "name": "python",
   "nbconvert_exporter": "python",
   "pygments_lexer": "ipython3",
   "version": "3.13.5"
  }
 },
 "nbformat": 4,
 "nbformat_minor": 4
}
